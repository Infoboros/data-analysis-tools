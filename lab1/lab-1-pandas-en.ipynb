{
 "cells": [
  {
   "cell_type": "markdown",
   "metadata": {},
   "source": [
    "## Helpful links"
   ]
  },
  {
   "cell_type": "markdown",
   "metadata": {},
   "source": [
    "**Getting started**\n",
    "\n",
    "- Anaconda (a distribution for Python that includes Jupyter Notebook and Python itself): https://www.anaconda.com/download/ - Python version 3.6 or higher is recommended; don't forget to select the appropriate operating system!\n",
    "- jupyter documentation: https://jupyter.readthedocs.io/en/latest/\n",
    "- PIP documentation (for installing packages in Python using pip install): https://pip.readthedocs.io/en/latest/\n",
    "- PyCharm: https://www.jetbrains.com/pycharm/\n",
    "\n",
    "**Common**\n",
    "\n",
    "- for any questions: https://www.google.com/\n",
    "- for (almost) any answers: https://stackoverflow.com/\n",
    "- [a professional information and analytical resource dedicated to machine learning, pattern recognition, and data mining](http://www.machinelearning.ru/wiki/index.php?title=%D0%97%D0%B0%D0%B3%D0%BB%D0%B0%D0%B2%D0%BD%D0%B0%D1%8F_%D1%81%D1%82%D1%80%D0%B0%D0%BD%D0%B8%D1%86%D0%B0)\n",
    "- A visual introduction to machine learning: http://www.r2d3.us/visual-intro-to-machine-learning-part-1/\n",
    "\n",
    "**Python & Jupyter**\n",
    "\n",
    "- A Crash Course in Python for Scientists: http://nbviewer.jupyter.org/gist/rpmuller/5920182\n",
    "- A Gallery of interesting Jupyter Notebooks: https://github.com/jupyter/jupyter/wiki/A-gallery-of-interesting-Jupyter-Notebooks\n",
    "- Markdown Cheatsheet: https://github.com/adam-p/markdown-here/wiki/Markdown-Cheatsheet\n",
    "\n",
    "**pandas**\n",
    "\n",
    "- documentation: http://pandas.pydata.org/pandas-docs/stable/\n",
    "- 10 minutes to pandas: https://pandas.pydata.org/pandas-docs/stable/10min.html\n",
    "- Pandas Tutorial: DataFrames in Python: https://www.datacamp.com/community/tutorials/pandas-tutorial-dataframe-python\n",
    "- Cheet Sheet: https://www.analyticsvidhya.com/blog/2015/07/11-steps-perform-data-analysis-pandas-python/\n",
    "- Visualization: http://pandas.pydata.org/pandas-docs/stable/visualization.html\n",
    "\n",
    "**sklearn**\n",
    "\n",
    "- documentation and more: http://scikit-learn.org/stable/\n",
    "\n",
    "**Other libraries**\n",
    "\n",
    "- matplotlib: https://matplotlib.org/users/pyplot_tutorial.html\n",
    "- seaborn: http://seaborn.pydata.org/"
   ]
  },
  {
   "cell_type": "markdown",
   "metadata": {},
   "source": [
    "## Lab 1: working with Pandas.\n",
    "\n",
    "Pandas is a Python library that provides extensive data analysis capabilities. It is very convenient to load, process, and analyze table data using SQL-like queries."
   ]
  },
  {
   "cell_type": "code",
   "execution_count": 39,
   "metadata": {},
   "outputs": [],
   "source": [
    "import pandas as pd"
   ]
  },
  {
   "cell_type": "markdown",
   "metadata": {},
   "source": [
    "The main data structures in Pandas are the Series and DataFrame classes. The first one is a one-dimensional indexed data array of some fixed type. The second is a two-dimensional data structure, which is a table with each column containing data of the same type. You can represent it as a dictionary of objects of the Series type.\n",
    "\n",
    "We will use the Pandas library to analyze data. We will work with credit data of a bank, which is interested in whether the payment will be delayed by 90 days or more when issuing a loan."
   ]
  },
  {
   "cell_type": "markdown",
   "metadata": {},
   "source": [
    "### 1\n",
    "Read the data from the data.csv file\n",
    "\n",
    "*Functions that can be useful: `pd.read_csv(..., delimiter=',')`*"
   ]
  },
  {
   "cell_type": "code",
   "execution_count": 1,
   "metadata": {},
   "outputs": [],
   "source": [
    "# place for code\n"
   ]
  },
  {
   "cell_type": "markdown",
   "metadata": {},
   "source": [
    "### 2\n",
    "Output a description of the read data. \n",
    "\n",
    "*Functions that can be useful:`.describe()`*"
   ]
  },
  {
   "cell_type": "code",
   "execution_count": 2,
   "metadata": {},
   "outputs": [],
   "source": [
    "# place for code\n"
   ]
  },
  {
   "cell_type": "markdown",
   "metadata": {},
   "source": [
    "### 3\n",
    "Display the first and last few entries.\n",
    "\n",
    "*Functions that can be useful for solving:`.head(), .tail()`*\n",
    "\n",
    "*What parameters can be passed to these functions?*"
   ]
  },
  {
   "cell_type": "code",
   "execution_count": null,
   "metadata": {},
   "outputs": [],
   "source": [
    "# place for code\n"
   ]
  },
  {
   "cell_type": "markdown",
   "metadata": {},
   "source": [
    "### 4\n",
    "Open the file `DataDictionary-ru.txt` in a text editor and read what the matrix columns mean. Write below what type does each column belong to (real, integer, categorical)?"
   ]
  },
  {
   "cell_type": "code",
   "execution_count": null,
   "metadata": {},
   "outputs": [],
   "source": [
    "# place for code\n"
   ]
  },
  {
   "cell_type": "markdown",
   "metadata": {},
   "source": [
    "### 5\n",
    "\n",
    "Note that the `DebtRatio`column contains improbable data. Only values that correspond to a known monthly income are ratios. The rest are absolute values of monthly credit payments. \n",
    "\n",
    "Correct the data by making all values of the `DebtRatio` column absolute (multiply ratios by `MonthlyIncome`).  To make your program run quickly on full data, try not to use a loop."
   ]
  },
  {
   "cell_type": "markdown",
   "metadata": {},
   "source": [
    "#### *Functions that can be useful:*\n",
    "\n",
    "Accessing DataFrame elements:\n",
    "  * element: `data.loc[i, 'columnName']`\n",
    "  * column: `data['columnName']`\n",
    "  * sub-matrix: `data.loc[a:b, columnNameList]`\n",
    "\n",
    "Conditional indexing:\n",
    "* `data.loc[data['columnName'] > 20, columnNameList]`\n",
    "\n",
    "it's better to write like this:\n",
    "\n",
    "* `i = data['columnName'] > 20`  # i - boolean array of `True` and `False`\n",
    "* `data.loc[i, columnNameList]`\n",
    "\n",
    "Sub-matrix line numbers are inherited from the original.\n",
    "\n",
    "* `pandas.isnull(scalar or array)` - checking whether the value is undefined (`NaN`)\n",
    "* `pandas.notnull(scalar or array)` - checking whether the value is defined (not `NaN`)"
   ]
  },
  {
   "cell_type": "code",
   "execution_count": 22,
   "metadata": {
    "scrolled": true
   },
   "outputs": [],
   "source": [
    "# place for code\n"
   ]
  },
  {
   "cell_type": "markdown",
   "metadata": {},
   "source": [
    "### 6\n",
    "\n",
    "Change the column name to `Debt`.\n",
    "\n",
    "*Functions that can be useful: `.rename(columns={'oldName':'newName'}, inplace=True)`*"
   ]
  },
  {
   "cell_type": "code",
   "execution_count": 24,
   "metadata": {},
   "outputs": [],
   "source": [
    "# place for code\n"
   ]
  },
  {
   "cell_type": "markdown",
   "metadata": {},
   "source": [
    "### 7\n",
    "\n",
    "Calculate the average monthly income and assign the resulting number to all clients with unknown (or zero) income.\n",
    "\n",
    "*Functions that can be useful: `.mean()`*\n",
    "\n",
    "*Other descriptive statistics:* https://pandas.pydata.org/pandas-docs/stable/reference/frame.html#computations-descriptive-stats"
   ]
  },
  {
   "cell_type": "code",
   "execution_count": null,
   "metadata": {},
   "outputs": [],
   "source": [
    "# place for code\n"
   ]
  },
  {
   "cell_type": "markdown",
   "metadata": {},
   "source": [
    "### 8\n",
    "\n",
    "Using the `groupby` method, estimate the probability of non-repayment of the loan (`SeriousDlqin2yrs=1`) for different values of the number of dependents (`NumberOfDependents`).  \n",
    "\n",
    "Follow the same procedure for different values of the column `NumberRealEstateLoansOrLines`\n",
    "\n",
    "*Help:*\n",
    "`data['column1'].groupby(data['column2']).mean()`  *-- calculating the average values of column1 for groups of column2*"
   ]
  },
  {
   "cell_type": "code",
   "execution_count": null,
   "metadata": {
    "scrolled": true
   },
   "outputs": [],
   "source": [
    "# place for code\n"
   ]
  },
  {
   "cell_type": "markdown",
   "metadata": {},
   "source": [
    "## Визуализация данных"
   ]
  },
  {
   "cell_type": "code",
   "execution_count": 3,
   "metadata": {},
   "outputs": [],
   "source": [
    "import matplotlib.pyplot as plt\n",
    "\n",
    "# enable graphs output directly to this notebook\n",
    "%matplotlib inline"
   ]
  },
  {
   "cell_type": "markdown",
   "metadata": {},
   "source": [
    "Matplotlib makes it easy to visualize tabular data.\n",
    "\n",
    "*Functions that can be useful:*\n",
    "\n",
    "* Drawing:\n",
    "   * `plt.plot(x, y)`  see more http://matplotlib.org/api/pyplot_api.html#matplotlib.pyplot.plot\n",
    "   * `plt.show()`\n",
    "   * `plt.scatter(x, y)` - scatter plot, see http://matplotlib.org/api/pyplot_api.html#matplotlib.pyplot.scatter\n",
    "   * `plt.hist()` - histogram, see http://matplotlib.org/api/pyplot_api.html#matplotlib.pyplot.hist\n",
    "\n",
    "* Drawing multiple graphs on one:\n",
    "\n",
    "  `fig, ax = plt.subplots()\n",
    "   ax.hist(...)\n",
    "   ax.hist(...)\n",
    "   plt.show()`\n",
    "   \n",
    "* Logarithmic scale:\n",
    "    * `ax.set_xscale('log')`  или `ax.set_yscale('log')`\n",
    "* The reduction of the graph area:\n",
    "    * `ax.axis([x1, x2, y1, y2])`\n",
    "\n",
    "\n",
    "### 9a\n",
    "\n",
    "Plot the scattering graph on the `age` and `Debt` axes. Mark clients without serious debts in blue (`SeriousDlqin2yrs = 0`) and debtors in red  (`SeriousDlqin2yrs = 1`)."
   ]
  },
  {
   "cell_type": "code",
   "execution_count": null,
   "metadata": {},
   "outputs": [],
   "source": [
    "# place for code\n"
   ]
  },
  {
   "cell_type": "markdown",
   "metadata": {},
   "source": [
    "### 9b\n",
    "Plot two **normalized** distribution densities on the same graph: the red one for the monthly income of clients with arrears, and the blue one for the monthly income of clients without arrears. On the abscissa axis, display values up to 25000."
   ]
  },
  {
   "cell_type": "code",
   "execution_count": null,
   "metadata": {},
   "outputs": [],
   "source": [
    "# place for code\n"
   ]
  },
  {
   "cell_type": "markdown",
   "metadata": {},
   "source": [
    "### 9c*\n",
    "Visualize pairwise dependencies between the non-binary features: 'age', 'MonthlyIncome', and 'NumberOfDependents'. Limit monthly income to 25,000.\n",
    "\n",
    "What regularities can you observe in the resulting charts?\n",
    "\n",
    "*Functions that can be useful: 'pd.plotting.scatter_matrix()`*"
   ]
  },
  {
   "cell_type": "code",
   "execution_count": null,
   "metadata": {},
   "outputs": [],
   "source": [
    "# place for code\n"
   ]
  }
 ],
 "metadata": {
  "kernelspec": {
   "display_name": "Python 3",
   "language": "python",
   "name": "python3"
  },
  "language_info": {
   "codemirror_mode": {
    "name": "ipython",
    "version": 3
   },
   "file_extension": ".py",
   "mimetype": "text/x-python",
   "name": "python",
   "nbconvert_exporter": "python",
   "pygments_lexer": "ipython3",
   "version": "3.7.6"
  }
 },
 "nbformat": 4,
 "nbformat_minor": 2
}
